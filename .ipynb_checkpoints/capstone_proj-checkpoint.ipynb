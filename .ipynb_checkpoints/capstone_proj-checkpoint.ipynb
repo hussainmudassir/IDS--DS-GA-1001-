{
 "cells": [
  {
   "cell_type": "code",
   "execution_count": 2,
   "id": "059e38ce",
   "metadata": {},
   "outputs": [],
   "source": [
    "import random\n",
    "import numpy as np\n",
    "import pandas as pd\n",
    "from scipy.stats import mannwhitneyu\n",
    "from sklearn.model_selection import train_test_split, GridSearchCV\n",
    "from sklearn.linear_model import LinearRegression, Ridge, Lasso\n",
    "from sklearn.metrics import mean_squared_error, r2_score, silhouette_score\n",
    "from sklearn.preprocessing import StandardScaler\n",
    "from sklearn.decomposition import PCA\n",
    "import matplotlib.pyplot as plt\n",
    "import seaborn as sns"
   ]
  },
  {
   "cell_type": "code",
   "execution_count": 3,
   "id": "d833e24e",
   "metadata": {},
   "outputs": [],
   "source": [
    "spotify_data = pd.read_csv(\"spotify52kData.csv\")\n",
    "rating_data = pd.read_csv(\"starRatings.csv\", header=None)"
   ]
  },
  {
   "cell_type": "code",
   "execution_count": 7,
   "id": "496bd9cb",
   "metadata": {},
   "outputs": [
    {
     "data": {
      "text/html": [
       "<div>\n",
       "<style scoped>\n",
       "    .dataframe tbody tr th:only-of-type {\n",
       "        vertical-align: middle;\n",
       "    }\n",
       "\n",
       "    .dataframe tbody tr th {\n",
       "        vertical-align: top;\n",
       "    }\n",
       "\n",
       "    .dataframe thead th {\n",
       "        text-align: right;\n",
       "    }\n",
       "</style>\n",
       "<table border=\"1\" class=\"dataframe\">\n",
       "  <thead>\n",
       "    <tr style=\"text-align: right;\">\n",
       "      <th></th>\n",
       "      <th>songNumber</th>\n",
       "      <th>artists</th>\n",
       "      <th>album_name</th>\n",
       "      <th>track_name</th>\n",
       "      <th>popularity</th>\n",
       "      <th>duration</th>\n",
       "      <th>explicit</th>\n",
       "      <th>danceability</th>\n",
       "      <th>energy</th>\n",
       "      <th>key</th>\n",
       "      <th>loudness</th>\n",
       "      <th>mode</th>\n",
       "      <th>speechiness</th>\n",
       "      <th>acousticness</th>\n",
       "      <th>instrumentalness</th>\n",
       "      <th>liveness</th>\n",
       "      <th>valence</th>\n",
       "      <th>tempo</th>\n",
       "      <th>time_signature</th>\n",
       "      <th>track_genre</th>\n",
       "    </tr>\n",
       "  </thead>\n",
       "  <tbody>\n",
       "    <tr>\n",
       "      <th>0</th>\n",
       "      <td>0</td>\n",
       "      <td>Gen Hoshino</td>\n",
       "      <td>Comedy</td>\n",
       "      <td>Comedy</td>\n",
       "      <td>73</td>\n",
       "      <td>230666</td>\n",
       "      <td>False</td>\n",
       "      <td>0.676</td>\n",
       "      <td>0.4610</td>\n",
       "      <td>1</td>\n",
       "      <td>-6.746</td>\n",
       "      <td>0</td>\n",
       "      <td>0.1430</td>\n",
       "      <td>0.03220</td>\n",
       "      <td>0.000001</td>\n",
       "      <td>0.3580</td>\n",
       "      <td>0.715</td>\n",
       "      <td>87.917</td>\n",
       "      <td>4</td>\n",
       "      <td>acoustic</td>\n",
       "    </tr>\n",
       "    <tr>\n",
       "      <th>1</th>\n",
       "      <td>1</td>\n",
       "      <td>Ben Woodward</td>\n",
       "      <td>Ghost (Acoustic)</td>\n",
       "      <td>Ghost - Acoustic</td>\n",
       "      <td>55</td>\n",
       "      <td>149610</td>\n",
       "      <td>False</td>\n",
       "      <td>0.420</td>\n",
       "      <td>0.1660</td>\n",
       "      <td>1</td>\n",
       "      <td>-17.235</td>\n",
       "      <td>1</td>\n",
       "      <td>0.0763</td>\n",
       "      <td>0.92400</td>\n",
       "      <td>0.000006</td>\n",
       "      <td>0.1010</td>\n",
       "      <td>0.267</td>\n",
       "      <td>77.489</td>\n",
       "      <td>4</td>\n",
       "      <td>acoustic</td>\n",
       "    </tr>\n",
       "    <tr>\n",
       "      <th>2</th>\n",
       "      <td>2</td>\n",
       "      <td>Ingrid Michaelson;ZAYN</td>\n",
       "      <td>To Begin Again</td>\n",
       "      <td>To Begin Again</td>\n",
       "      <td>57</td>\n",
       "      <td>210826</td>\n",
       "      <td>False</td>\n",
       "      <td>0.438</td>\n",
       "      <td>0.3590</td>\n",
       "      <td>0</td>\n",
       "      <td>-9.734</td>\n",
       "      <td>1</td>\n",
       "      <td>0.0557</td>\n",
       "      <td>0.21000</td>\n",
       "      <td>0.000000</td>\n",
       "      <td>0.1170</td>\n",
       "      <td>0.120</td>\n",
       "      <td>76.332</td>\n",
       "      <td>4</td>\n",
       "      <td>acoustic</td>\n",
       "    </tr>\n",
       "    <tr>\n",
       "      <th>3</th>\n",
       "      <td>3</td>\n",
       "      <td>Kina Grannis</td>\n",
       "      <td>Crazy Rich Asians (Original Motion Picture Sou...</td>\n",
       "      <td>Can't Help Falling In Love</td>\n",
       "      <td>71</td>\n",
       "      <td>201933</td>\n",
       "      <td>False</td>\n",
       "      <td>0.266</td>\n",
       "      <td>0.0596</td>\n",
       "      <td>0</td>\n",
       "      <td>-18.515</td>\n",
       "      <td>1</td>\n",
       "      <td>0.0363</td>\n",
       "      <td>0.90500</td>\n",
       "      <td>0.000071</td>\n",
       "      <td>0.1320</td>\n",
       "      <td>0.143</td>\n",
       "      <td>181.740</td>\n",
       "      <td>3</td>\n",
       "      <td>acoustic</td>\n",
       "    </tr>\n",
       "    <tr>\n",
       "      <th>4</th>\n",
       "      <td>4</td>\n",
       "      <td>Chord Overstreet</td>\n",
       "      <td>Hold On</td>\n",
       "      <td>Hold On</td>\n",
       "      <td>82</td>\n",
       "      <td>198853</td>\n",
       "      <td>False</td>\n",
       "      <td>0.618</td>\n",
       "      <td>0.4430</td>\n",
       "      <td>2</td>\n",
       "      <td>-9.681</td>\n",
       "      <td>1</td>\n",
       "      <td>0.0526</td>\n",
       "      <td>0.46900</td>\n",
       "      <td>0.000000</td>\n",
       "      <td>0.0829</td>\n",
       "      <td>0.167</td>\n",
       "      <td>119.949</td>\n",
       "      <td>4</td>\n",
       "      <td>acoustic</td>\n",
       "    </tr>\n",
       "    <tr>\n",
       "      <th>...</th>\n",
       "      <td>...</td>\n",
       "      <td>...</td>\n",
       "      <td>...</td>\n",
       "      <td>...</td>\n",
       "      <td>...</td>\n",
       "      <td>...</td>\n",
       "      <td>...</td>\n",
       "      <td>...</td>\n",
       "      <td>...</td>\n",
       "      <td>...</td>\n",
       "      <td>...</td>\n",
       "      <td>...</td>\n",
       "      <td>...</td>\n",
       "      <td>...</td>\n",
       "      <td>...</td>\n",
       "      <td>...</td>\n",
       "      <td>...</td>\n",
       "      <td>...</td>\n",
       "      <td>...</td>\n",
       "      <td>...</td>\n",
       "    </tr>\n",
       "    <tr>\n",
       "      <th>51995</th>\n",
       "      <td>51995</td>\n",
       "      <td>Don Omar;Trebol Clan</td>\n",
       "      <td>Perreo Tenebroso Vol. 3</td>\n",
       "      <td>Tu Cuerpo Me Arrebata</td>\n",
       "      <td>0</td>\n",
       "      <td>203653</td>\n",
       "      <td>False</td>\n",
       "      <td>0.819</td>\n",
       "      <td>0.6450</td>\n",
       "      <td>10</td>\n",
       "      <td>-6.707</td>\n",
       "      <td>0</td>\n",
       "      <td>0.0481</td>\n",
       "      <td>0.23200</td>\n",
       "      <td>0.000863</td>\n",
       "      <td>0.1780</td>\n",
       "      <td>0.724</td>\n",
       "      <td>94.998</td>\n",
       "      <td>4</td>\n",
       "      <td>hip-hop</td>\n",
       "    </tr>\n",
       "    <tr>\n",
       "      <th>51996</th>\n",
       "      <td>51996</td>\n",
       "      <td>Don Omar</td>\n",
       "      <td>Feliz Cumpleaños con Perreo</td>\n",
       "      <td>Dale Don Dale</td>\n",
       "      <td>1</td>\n",
       "      <td>212413</td>\n",
       "      <td>False</td>\n",
       "      <td>0.831</td>\n",
       "      <td>0.8180</td>\n",
       "      <td>2</td>\n",
       "      <td>-7.827</td>\n",
       "      <td>1</td>\n",
       "      <td>0.0824</td>\n",
       "      <td>0.02450</td>\n",
       "      <td>0.000319</td>\n",
       "      <td>0.0892</td>\n",
       "      <td>0.819</td>\n",
       "      <td>95.022</td>\n",
       "      <td>4</td>\n",
       "      <td>hip-hop</td>\n",
       "    </tr>\n",
       "    <tr>\n",
       "      <th>51997</th>\n",
       "      <td>51997</td>\n",
       "      <td>Don Omar</td>\n",
       "      <td>Última Misión Reggaeton</td>\n",
       "      <td>Dale Don Dale</td>\n",
       "      <td>0</td>\n",
       "      <td>212413</td>\n",
       "      <td>False</td>\n",
       "      <td>0.831</td>\n",
       "      <td>0.8180</td>\n",
       "      <td>2</td>\n",
       "      <td>-7.827</td>\n",
       "      <td>1</td>\n",
       "      <td>0.0824</td>\n",
       "      <td>0.02450</td>\n",
       "      <td>0.000319</td>\n",
       "      <td>0.0892</td>\n",
       "      <td>0.819</td>\n",
       "      <td>95.022</td>\n",
       "      <td>4</td>\n",
       "      <td>hip-hop</td>\n",
       "    </tr>\n",
       "    <tr>\n",
       "      <th>51998</th>\n",
       "      <td>51998</td>\n",
       "      <td>Moneybagg Yo;Pooh Shiesty;Lil Durk;EST Gee</td>\n",
       "      <td>Energy Hip Hop</td>\n",
       "      <td>Switches &amp; Dracs</td>\n",
       "      <td>0</td>\n",
       "      <td>168620</td>\n",
       "      <td>True</td>\n",
       "      <td>0.727</td>\n",
       "      <td>0.6470</td>\n",
       "      <td>11</td>\n",
       "      <td>-7.383</td>\n",
       "      <td>0</td>\n",
       "      <td>0.2800</td>\n",
       "      <td>0.03290</td>\n",
       "      <td>0.000000</td>\n",
       "      <td>0.2460</td>\n",
       "      <td>0.529</td>\n",
       "      <td>159.959</td>\n",
       "      <td>4</td>\n",
       "      <td>hip-hop</td>\n",
       "    </tr>\n",
       "    <tr>\n",
       "      <th>51999</th>\n",
       "      <td>51999</td>\n",
       "      <td>Don Omar;Juan Magán</td>\n",
       "      <td>Perreo Tenebroso Vol. 4</td>\n",
       "      <td>No Sigue Modas Aka Ella No Sigue Modas</td>\n",
       "      <td>0</td>\n",
       "      <td>232000</td>\n",
       "      <td>False</td>\n",
       "      <td>0.685</td>\n",
       "      <td>0.8620</td>\n",
       "      <td>0</td>\n",
       "      <td>-4.611</td>\n",
       "      <td>1</td>\n",
       "      <td>0.0627</td>\n",
       "      <td>0.00757</td>\n",
       "      <td>0.001400</td>\n",
       "      <td>0.0226</td>\n",
       "      <td>0.884</td>\n",
       "      <td>128.032</td>\n",
       "      <td>4</td>\n",
       "      <td>hip-hop</td>\n",
       "    </tr>\n",
       "  </tbody>\n",
       "</table>\n",
       "<p>52000 rows × 20 columns</p>\n",
       "</div>"
      ],
      "text/plain": [
       "       songNumber                                     artists  \\\n",
       "0               0                                 Gen Hoshino   \n",
       "1               1                                Ben Woodward   \n",
       "2               2                      Ingrid Michaelson;ZAYN   \n",
       "3               3                                Kina Grannis   \n",
       "4               4                            Chord Overstreet   \n",
       "...           ...                                         ...   \n",
       "51995       51995                        Don Omar;Trebol Clan   \n",
       "51996       51996                                    Don Omar   \n",
       "51997       51997                                    Don Omar   \n",
       "51998       51998  Moneybagg Yo;Pooh Shiesty;Lil Durk;EST Gee   \n",
       "51999       51999                         Don Omar;Juan Magán   \n",
       "\n",
       "                                              album_name  \\\n",
       "0                                                 Comedy   \n",
       "1                                       Ghost (Acoustic)   \n",
       "2                                         To Begin Again   \n",
       "3      Crazy Rich Asians (Original Motion Picture Sou...   \n",
       "4                                                Hold On   \n",
       "...                                                  ...   \n",
       "51995                            Perreo Tenebroso Vol. 3   \n",
       "51996                        Feliz Cumpleaños con Perreo   \n",
       "51997                            Última Misión Reggaeton   \n",
       "51998                                     Energy Hip Hop   \n",
       "51999                            Perreo Tenebroso Vol. 4   \n",
       "\n",
       "                                   track_name  popularity  duration  explicit  \\\n",
       "0                                      Comedy          73    230666     False   \n",
       "1                            Ghost - Acoustic          55    149610     False   \n",
       "2                              To Begin Again          57    210826     False   \n",
       "3                  Can't Help Falling In Love          71    201933     False   \n",
       "4                                     Hold On          82    198853     False   \n",
       "...                                       ...         ...       ...       ...   \n",
       "51995                   Tu Cuerpo Me Arrebata           0    203653     False   \n",
       "51996                           Dale Don Dale           1    212413     False   \n",
       "51997                           Dale Don Dale           0    212413     False   \n",
       "51998                        Switches & Dracs           0    168620      True   \n",
       "51999  No Sigue Modas Aka Ella No Sigue Modas           0    232000     False   \n",
       "\n",
       "       danceability  energy  key  loudness  mode  speechiness  acousticness  \\\n",
       "0             0.676  0.4610    1    -6.746     0       0.1430       0.03220   \n",
       "1             0.420  0.1660    1   -17.235     1       0.0763       0.92400   \n",
       "2             0.438  0.3590    0    -9.734     1       0.0557       0.21000   \n",
       "3             0.266  0.0596    0   -18.515     1       0.0363       0.90500   \n",
       "4             0.618  0.4430    2    -9.681     1       0.0526       0.46900   \n",
       "...             ...     ...  ...       ...   ...          ...           ...   \n",
       "51995         0.819  0.6450   10    -6.707     0       0.0481       0.23200   \n",
       "51996         0.831  0.8180    2    -7.827     1       0.0824       0.02450   \n",
       "51997         0.831  0.8180    2    -7.827     1       0.0824       0.02450   \n",
       "51998         0.727  0.6470   11    -7.383     0       0.2800       0.03290   \n",
       "51999         0.685  0.8620    0    -4.611     1       0.0627       0.00757   \n",
       "\n",
       "       instrumentalness  liveness  valence    tempo  time_signature  \\\n",
       "0              0.000001    0.3580    0.715   87.917               4   \n",
       "1              0.000006    0.1010    0.267   77.489               4   \n",
       "2              0.000000    0.1170    0.120   76.332               4   \n",
       "3              0.000071    0.1320    0.143  181.740               3   \n",
       "4              0.000000    0.0829    0.167  119.949               4   \n",
       "...                 ...       ...      ...      ...             ...   \n",
       "51995          0.000863    0.1780    0.724   94.998               4   \n",
       "51996          0.000319    0.0892    0.819   95.022               4   \n",
       "51997          0.000319    0.0892    0.819   95.022               4   \n",
       "51998          0.000000    0.2460    0.529  159.959               4   \n",
       "51999          0.001400    0.0226    0.884  128.032               4   \n",
       "\n",
       "      track_genre  \n",
       "0        acoustic  \n",
       "1        acoustic  \n",
       "2        acoustic  \n",
       "3        acoustic  \n",
       "4        acoustic  \n",
       "...           ...  \n",
       "51995     hip-hop  \n",
       "51996     hip-hop  \n",
       "51997     hip-hop  \n",
       "51998     hip-hop  \n",
       "51999     hip-hop  \n",
       "\n",
       "[52000 rows x 20 columns]"
      ]
     },
     "execution_count": 7,
     "metadata": {},
     "output_type": "execute_result"
    }
   ],
   "source": [
    "spotify_data"
   ]
  },
  {
   "cell_type": "code",
   "execution_count": 9,
   "id": "e82316da",
   "metadata": {},
   "outputs": [],
   "source": [
    "np.random.seed(17951972)\n",
    "random.seed(17951972)"
   ]
  },
  {
   "cell_type": "markdown",
   "id": "6bf9b7e7",
   "metadata": {},
   "source": [
    "### Question 1 "
   ]
  },
  {
   "cell_type": "markdown",
   "id": "64af80d1",
   "metadata": {},
   "source": [
    "Is there a relationship between song length and popularity of a song? If so, is it positive or negative?"
   ]
  },
  {
   "cell_type": "code",
   "execution_count": 10,
   "id": "19c4bccc",
   "metadata": {},
   "outputs": [
    {
     "data": {
      "text/plain": [
       "<AxesSubplot:>"
      ]
     },
     "execution_count": 10,
     "metadata": {},
     "output_type": "execute_result"
    },
    {
     "data": {
      "image/png": "[encoded data removed]",
      "text/plain": [
       "<Figure size 640x480 with 1 Axes>"
      ]
     },
     "metadata": {},
     "output_type": "display_data"
    }
   ],
   "source": [
    "spotify_data['duration'].hist(bins=50)"
   ]
  },
  {
   "cell_type": "code",
   "execution_count": 11,
   "id": "0b6df07e",
   "metadata": {},
   "outputs": [],
   "source": [
    "spotify_data['duration_'] = spotify_data['duration'] / 60000"
   ]
  },
  {
   "cell_type": "code",
   "execution_count": 12,
   "id": "b538d1c6",
   "metadata": {},
   "outputs": [
    {
     "data": {
      "text/plain": [
       "<AxesSubplot:>"
      ]
     },
     "execution_count": 12,
     "metadata": {},
     "output_type": "execute_result"
    },
    {
     "data": {
      "image/png": "[encoded data removed]",
      "text/plain": [
       "<Figure size 640x480 with 1 Axes>"
      ]
     },
     "metadata": {},
     "output_type": "display_data"
    }
   ],
   "source": [
    "spotify_data['duration_'].hist(bins=50)"
   ]
  },
  {
   "cell_type": "code",
   "execution_count": 13,
   "id": "daf52266",
   "metadata": {},
   "outputs": [
    {
     "data": {
      "text/plain": [
       "<AxesSubplot:>"
      ]
     },
     "execution_count": 13,
     "metadata": {},
     "output_type": "execute_result"
    },
    {
     "data": {
      "image/png": "[encoded data removed]",
      "text/plain": [
       "<Figure size 640x480 with 1 Axes>"
      ]
     },
     "metadata": {},
     "output_type": "display_data"
    }
   ],
   "source": [
    "spotify_data['popularity'].hist(bins=50)"
   ]
  },
  {
   "cell_type": "code",
   "execution_count": 14,
   "id": "aa5b7ee1",
   "metadata": {},
   "outputs": [
    {
     "name": "stdout",
     "output_type": "stream",
     "text": [
      "            duration_  popularity\n",
      "duration_    1.000000   -0.054651\n",
      "popularity  -0.054651    1.000000\n"
     ]
    }
   ],
   "source": [
    "corr = spotify_data[['duration_', 'popularity']].corr()\n",
    "print(corr)"
   ]
  },
  {
   "cell_type": "markdown",
   "id": "40cbfaf1",
   "metadata": {},
   "source": [
    "### Question 2"
   ]
  },
  {
   "cell_type": "markdown",
   "id": "5ee2e8ec",
   "metadata": {},
   "source": [
    "Are explicitly rated songs more popular than songs that are not explicit?"
   ]
  },
  {
   "cell_type": "code",
   "execution_count": 15,
   "id": "18319478",
   "metadata": {},
   "outputs": [
    {
     "data": {
      "text/plain": [
       "explicit\n",
       "False    32.790595\n",
       "True     35.813114\n",
       "Name: popularity, dtype: float64"
      ]
     },
     "execution_count": 15,
     "metadata": {},
     "output_type": "execute_result"
    }
   ],
   "source": [
    "q2_data = spotify_data.groupby('explicit')['popularity'].mean()\n",
    "q2_data"
   ]
  },
  {
   "cell_type": "code",
   "execution_count": 16,
   "id": "32300bc8",
   "metadata": {},
   "outputs": [],
   "source": [
    "explicit_popularity = spotify_data[spotify_data['explicit'] == True]['popularity']\n",
    "non_explicit_popularity = spotify_data[spotify_data['explicit'] == False]['popularity']\n",
    "\n",
    "explicit_popularity = explicit_popularity.dropna()\n",
    "non_explicit_popularity = non_explicit_popularity.dropna()"
   ]
  },
  {
   "cell_type": "code",
   "execution_count": 17,
   "id": "91258a12",
   "metadata": {},
   "outputs": [
    {
     "name": "stdout",
     "output_type": "stream",
     "text": [
      "P-value: 1.5339599669557339e-19\n",
      "139361273.5\n"
     ]
    }
   ],
   "source": [
    "u,p = mannwhitneyu(explicit_popularity, non_explicit_popularity, alternative=\"greater\")\n",
    "print(\"P-value:\", p)\n",
    "print(u)"
   ]
  },
  {
   "cell_type": "markdown",
   "id": "1911c4ed",
   "metadata": {},
   "source": [
    "### Question 3"
   ]
  },
  {
   "cell_type": "markdown",
   "id": "aa5d2634",
   "metadata": {},
   "source": [
    "Are songs in major key more popular than songs in minor key?"
   ]
  },
  {
   "cell_type": "code",
   "execution_count": 18,
   "id": "ed7e4f1e",
   "metadata": {},
   "outputs": [
    {
     "data": {
      "text/plain": [
       "0"
      ]
     },
     "execution_count": 18,
     "metadata": {},
     "output_type": "execute_result"
    }
   ],
   "source": [
    "spotify_data['key'].min()"
   ]
  },
  {
   "cell_type": "markdown",
   "id": "c54c8cf9",
   "metadata": {},
   "source": [
    "### Question 4"
   ]
  },
  {
   "cell_type": "markdown",
   "id": "17fe5e2e",
   "metadata": {},
   "source": [
    "Which of the following 10 song features: duration, danceability, energy, loudness, speechiness, acousticness, instrumentalness, liveness, valence and tempo predicts popularity best? How good is this model?"
   ]
  },
  {
   "cell_type": "code",
   "execution_count": 4,
   "id": "f38f0edc",
   "metadata": {},
   "outputs": [
    {
     "name": "stdout",
     "output_type": "stream",
     "text": [
      "duration\n",
      "Coefficients: [-1.00976878e-05]\n",
      "Mean Squared Error: 471.36717918954116\n",
      "R-squared: 0.00298675321727615\n",
      "\n",
      "danceability\n",
      "Coefficients: [4.57572437]\n",
      "Mean Squared Error: 472.12648643945244\n",
      "R-squared: 0.0013807029448721364\n",
      "\n",
      "energy\n",
      "Coefficients: [-4.87212671]\n",
      "Mean Squared Error: 471.3006034509592\n",
      "R-squared: 0.0031275710260059153\n",
      "\n",
      "loudness\n",
      "Coefficients: [0.26614248]\n",
      "Mean Squared Error: 471.06531196414613\n",
      "R-squared: 0.0036252482924018503\n",
      "\n",
      "speechiness\n",
      "Coefficients: [-8.02489459]\n",
      "Mean Squared Error: 471.665660084922\n",
      "R-squared: 0.0023554207449603126\n",
      "\n",
      "acousticness\n",
      "Coefficients: [1.76969242]\n",
      "Mean Squared Error: 472.45389179487603\n",
      "R-squared: 0.0006881908421283445\n",
      "\n",
      "instrumentalness\n",
      "Coefficients: [-9.69098786]\n",
      "Mean Squared Error: 462.8428718411945\n",
      "R-squared: 0.021016959224749443\n",
      "\n",
      "liveness\n",
      "Coefficients: [-5.07153011]\n",
      "Mean Squared Error: 471.87034816389\n",
      "R-squared: 0.001922474338847624\n",
      "\n",
      "valence\n",
      "Coefficients: [-3.04623249]\n",
      "Mean Squared Error: 472.17437740401937\n",
      "R-squared: 0.0012794062738639145\n",
      "\n",
      "tempo\n",
      "Coefficients: [-0.00195696]\n",
      "Mean Squared Error: 472.77597942571845\n",
      "R-squared: 6.926535337070661e-06\n",
      "\n"
     ]
    }
   ],
   "source": [
    "features = ['duration', 'danceability', 'energy', 'loudness', 'speechiness', 'acousticness', 'instrumentalness', 'liveness', 'valence', 'tempo']\n",
    "target = 'popularity'\n",
    "\n",
    "y = spotify_data[target]\n",
    "\n",
    "for f in features:\n",
    "    print(f)\n",
    "    X = spotify_data[[f]]\n",
    "    model = LinearRegression()\n",
    "    model.fit(X, y)\n",
    "\n",
    "    coeffs = model.coef_\n",
    "    pred = model.predict(X)\n",
    "\n",
    "    RMSE = mean_squared_error(y, pred)\n",
    "    r2 = r2_score(y, pred)\n",
    "\n",
    "    print(\"Coefficients:\", model.coef_)\n",
    "    print(\"Mean Squared Error:\", RMSE)\n",
    "    print(\"R-squared:\", r2)\n",
    "    print()\n"
   ]
  },
  {
   "cell_type": "code",
   "execution_count": 21,
   "id": "b6b9e0bf",
   "metadata": {},
   "outputs": [
    {
     "name": "stdout",
     "output_type": "stream",
     "text": [
      "Coefficients: [-8.12966659e-06  5.05399676e+00 -1.38413219e+01  6.62993824e-01\n",
      " -7.38828256e+00  9.78514738e-01 -8.77191669e+00 -2.34193433e+00\n",
      " -8.10241388e+00  8.40718143e-03]\n",
      "Mean Squared Error: 450.2373216673965\n",
      "R-squared: 0.047679614286711636\n",
      "\n"
     ]
    }
   ],
   "source": [
    "X = spotify_data[features]\n",
    "model = LinearRegression()\n",
    "model.fit(X, y)\n",
    "coeffs = model.coef_\n",
    "pred = model.predict(X)\n",
    "\n",
    "RMSE = mean_squared_error(y, pred)\n",
    "r2 = r2_score(y, pred)\n",
    "\n",
    "print(\"Coefficients:\", model.coef_)\n",
    "print(\"Mean Squared Error:\", RMSE)\n",
    "print(\"R-squared:\", r2)\n",
    "print()"
   ]
  },
  {
   "cell_type": "code",
   "execution_count": 20,
   "id": "f9000ef4",
   "metadata": {},
   "outputs": [
    {
     "name": "stdout",
     "output_type": "stream",
     "text": [
      "21.686514285978976\n",
      "1.4633455111212612e-05\n"
     ]
    }
   ],
   "source": [
    "\n",
    "X_train, X_test, y_train, y_test = train_test_split(\n",
    "    X, y, test_size=0.2, random_state=42)\n",
    "ridge = Ridge()\n",
    "alpha_range = np.linspace(0.0001, 120, 400)\n",
    "params = {'alpha': alpha_range}  # Adjust these values based on your data\n",
    "#cross validating\n",
    "ridge_cv = GridSearchCV(ridge, params, cv=5)\n",
    "ridge_cv.fit(X_train, y_train)\n",
    "\n",
    "# Get the best hyperparameters\n",
    "best_alpha = ridge_cv.best_params_['alpha']\n",
    "\n",
    "# Train the model with the best hyperparameters\n",
    "ridge_model = Ridge(alpha=best_alpha)\n",
    "ridge_model.fit(X_train, y_train)\n",
    "\n",
    "# Make predictions\n",
    "predictions = ridge_model.predict(X_test)\n",
    "\n",
    "# Calculate RMSE\n",
    "rmse = mean_squared_error(y_test, predictions, squared=False)\n",
    "cod = ridge_model.score(X_test, y_test)\n",
    "print(rmse)\n",
    "print(cod)\n"
   ]
  },
  {
   "cell_type": "code",
   "execution_count": 22,
   "id": "ceb81150",
   "metadata": {},
   "outputs": [
    {
     "name": "stdout",
     "output_type": "stream",
     "text": [
      "21.11134824865985\n",
      "0.052354119363632545\n"
     ]
    }
   ],
   "source": [
    "\n",
    "X_train, X_test, y_train, y_test = train_test_split(\n",
    "    X, y, test_size=0.2, random_state=42)\n",
    "lasso = Lasso()\n",
    "alpha_range = np.linspace(0.0001, 120, 400)\n",
    "params = {'alpha': alpha_range}  # Adjust these values based on your data\n",
    "#cross validating\n",
    "lasso_cv = GridSearchCV(lasso, params, cv=5)\n",
    "lasso_cv.fit(X_train, y_train)\n",
    "\n",
    "# Get the best hyperparameters\n",
    "best_alpha = lasso_cv.best_params_['alpha']\n",
    "\n",
    "# Train the model with the best hyperparameters\n",
    "lasso_model = Ridge(alpha=best_alpha)\n",
    "lasso_model.fit(X_train, y_train)\n",
    "\n",
    "# Make predictions\n",
    "predictions = lasso_model.predict(X_test)\n",
    "\n",
    "# Calculate RMSE\n",
    "rmse = mean_squared_error(y_test, predictions, squared=False)\n",
    "cod = lasso_model.score(X_test, y_test)\n",
    "print(rmse)\n",
    "print(cod)\n"
   ]
  },
  {
   "cell_type": "code",
   "execution_count": 23,
   "id": "e6a3495f",
   "metadata": {},
   "outputs": [],
   "source": [
    "X_stan = StandardScaler().fit_transform(X)\n",
    "pca = PCA()\n",
    "X_pca = pca.fit_transform(X_stan)\n",
    "variance = pca.explained_variance_ratio_.cumsum()\n",
    "n_components = sum(variance <= 0.95) + 1"
   ]
  },
  {
   "cell_type": "code",
   "execution_count": null,
   "id": "16ab99af",
   "metadata": {
    "scrolled": true
   },
   "outputs": [],
   "source": [
    "silhouette_scores = []\n",
    "for i in range(2, 11):  # Starting from 2 as silhouette score isn't defined for 1 cluster\n",
    "    kmeans = KMeans(n_clusters=i, random_state=42)\n",
    "    clusters = kmeans.fit_predict(X_pca[:, :n_components])\n",
    "    score = silhouette_score(X_pca[:, :n_components], clusters)\n",
    "    silhouette_scores.append(score)\n",
    "\n",
    "plt.figure(figsize=(10, 6))\n",
    "plt.plot(range(2, 11), silhouette_scores, marker='o', linestyle='--')\n",
    "plt.title('Silhouette Method')\n",
    "plt.xlabel('Number of clusters')\n",
    "plt.ylabel('Silhouette Score')\n",
    "plt.show()"
   ]
  },
  {
   "cell_type": "code",
   "execution_count": 25,
   "id": "af0f2596",
   "metadata": {
    "scrolled": true
   },
   "outputs": [],
   "source": [
    "from sklearn.cluster import KMeans\n",
    "kmeans = KMeans(n_clusters=2, random_state=42)\n",
    "clusters = kmeans.fit_predict(X_pca[:, :n_components])"
   ]
  },
  {
   "cell_type": "code",
   "execution_count": 26,
   "id": "b69dcd1b",
   "metadata": {},
   "outputs": [
    {
     "data": {
      "text/plain": [
       "array([1, 0, 0, ..., 1, 1, 1])"
      ]
     },
     "execution_count": 26,
     "metadata": {},
     "output_type": "execute_result"
    }
   ],
   "source": [
    "clusters"
   ]
  },
  {
   "cell_type": "code",
   "execution_count": 27,
   "id": "44fb955a",
   "metadata": {},
   "outputs": [],
   "source": [
    "spotify_data['cluster'] = clusters\n",
    "# Assuming column 20 is named 'genre'\n",
    "genre_cluster_distribution = spotify_data.groupby(['cluster', 'track_genre']).size().unstack(fill_value=0)\n"
   ]
  },
  {
   "cell_type": "code",
   "execution_count": 28,
   "id": "fdccc70d",
   "metadata": {},
   "outputs": [
    {
     "data": {
      "image/png": "[encoded data removed]",
      "text/plain": [
       "<Figure size 1200x800 with 2 Axes>"
      ]
     },
     "metadata": {},
     "output_type": "display_data"
    }
   ],
   "source": [
    "# Create a heatmap\n",
    "plt.figure(figsize=(12, 8))\n",
    "sns.heatmap(genre_cluster_distribution, annot=True, fmt=\"d\", cmap=\"YlGnBu\")\n",
    "plt.title('Distribution of Genres across Clusters')\n",
    "plt.ylabel('Cluster')\n",
    "plt.xlabel('Genre')\n",
    "plt.show()"
   ]
  },
  {
   "cell_type": "code",
   "execution_count": 29,
   "id": "1e527aa0",
   "metadata": {},
   "outputs": [
    {
     "data": {
      "text/html": [
       "<div>\n",
       "<style scoped>\n",
       "    .dataframe tbody tr th:only-of-type {\n",
       "        vertical-align: middle;\n",
       "    }\n",
       "\n",
       "    .dataframe tbody tr th {\n",
       "        vertical-align: top;\n",
       "    }\n",
       "\n",
       "    .dataframe thead th {\n",
       "        text-align: right;\n",
       "    }\n",
       "</style>\n",
       "<table border=\"1\" class=\"dataframe\">\n",
       "  <thead>\n",
       "    <tr style=\"text-align: right;\">\n",
       "      <th>track_genre</th>\n",
       "      <th>acoustic</th>\n",
       "      <th>afrobeat</th>\n",
       "      <th>alt-rock</th>\n",
       "      <th>alternative</th>\n",
       "      <th>ambient</th>\n",
       "      <th>anime</th>\n",
       "      <th>black-metal</th>\n",
       "      <th>bluegrass</th>\n",
       "      <th>blues</th>\n",
       "      <th>brazil</th>\n",
       "      <th>...</th>\n",
       "      <th>grindcore</th>\n",
       "      <th>groove</th>\n",
       "      <th>grunge</th>\n",
       "      <th>guitar</th>\n",
       "      <th>happy</th>\n",
       "      <th>hard-rock</th>\n",
       "      <th>hardcore</th>\n",
       "      <th>hardstyle</th>\n",
       "      <th>heavy-metal</th>\n",
       "      <th>hip-hop</th>\n",
       "    </tr>\n",
       "    <tr>\n",
       "      <th>cluster</th>\n",
       "      <th></th>\n",
       "      <th></th>\n",
       "      <th></th>\n",
       "      <th></th>\n",
       "      <th></th>\n",
       "      <th></th>\n",
       "      <th></th>\n",
       "      <th></th>\n",
       "      <th></th>\n",
       "      <th></th>\n",
       "      <th></th>\n",
       "      <th></th>\n",
       "      <th></th>\n",
       "      <th></th>\n",
       "      <th></th>\n",
       "      <th></th>\n",
       "      <th></th>\n",
       "      <th></th>\n",
       "      <th></th>\n",
       "      <th></th>\n",
       "      <th></th>\n",
       "    </tr>\n",
       "  </thead>\n",
       "  <tbody>\n",
       "    <tr>\n",
       "      <th>0</th>\n",
       "      <td>576</td>\n",
       "      <td>111</td>\n",
       "      <td>62</td>\n",
       "      <td>76</td>\n",
       "      <td>896</td>\n",
       "      <td>258</td>\n",
       "      <td>45</td>\n",
       "      <td>402</td>\n",
       "      <td>264</td>\n",
       "      <td>169</td>\n",
       "      <td>...</td>\n",
       "      <td>14</td>\n",
       "      <td>71</td>\n",
       "      <td>34</td>\n",
       "      <td>785</td>\n",
       "      <td>5</td>\n",
       "      <td>47</td>\n",
       "      <td>7</td>\n",
       "      <td>0</td>\n",
       "      <td>14</td>\n",
       "      <td>34</td>\n",
       "    </tr>\n",
       "    <tr>\n",
       "      <th>1</th>\n",
       "      <td>424</td>\n",
       "      <td>889</td>\n",
       "      <td>938</td>\n",
       "      <td>924</td>\n",
       "      <td>104</td>\n",
       "      <td>742</td>\n",
       "      <td>955</td>\n",
       "      <td>598</td>\n",
       "      <td>736</td>\n",
       "      <td>831</td>\n",
       "      <td>...</td>\n",
       "      <td>986</td>\n",
       "      <td>929</td>\n",
       "      <td>966</td>\n",
       "      <td>215</td>\n",
       "      <td>995</td>\n",
       "      <td>953</td>\n",
       "      <td>993</td>\n",
       "      <td>1000</td>\n",
       "      <td>986</td>\n",
       "      <td>966</td>\n",
       "    </tr>\n",
       "  </tbody>\n",
       "</table>\n",
       "<p>2 rows × 52 columns</p>\n",
       "</div>"
      ],
      "text/plain": [
       "track_genre  acoustic  afrobeat  alt-rock  alternative  ambient  anime  \\\n",
       "cluster                                                                  \n",
       "0                 576       111        62           76      896    258   \n",
       "1                 424       889       938          924      104    742   \n",
       "\n",
       "track_genre  black-metal  bluegrass  blues  brazil  ...  grindcore  groove  \\\n",
       "cluster                                             ...                      \n",
       "0                     45        402    264     169  ...         14      71   \n",
       "1                    955        598    736     831  ...        986     929   \n",
       "\n",
       "track_genre  grunge  guitar  happy  hard-rock  hardcore  hardstyle  \\\n",
       "cluster                                                              \n",
       "0                34     785      5         47         7          0   \n",
       "1               966     215    995        953       993       1000   \n",
       "\n",
       "track_genre  heavy-metal  hip-hop  \n",
       "cluster                            \n",
       "0                     14       34  \n",
       "1                    986      966  \n",
       "\n",
       "[2 rows x 52 columns]"
      ]
     },
     "execution_count": 29,
     "metadata": {},
     "output_type": "execute_result"
    }
   ],
   "source": [
    "pd.crosstab(spotify_data['cluster'], spotify_data['track_genre'])"
   ]
  },
  {
   "cell_type": "code",
   "execution_count": 30,
   "id": "823f46de",
   "metadata": {},
   "outputs": [
    {
     "data": {
      "text/plain": [
       "0.07850936277181755"
      ]
     },
     "execution_count": 30,
     "metadata": {},
     "output_type": "execute_result"
    }
   ],
   "source": [
    "\n",
    "from sklearn.metrics import normalized_mutual_info_score\n",
    "normalized_mutual_info_score(spotify_data['track_genre'],spotify_data['cluster'])\n"
   ]
  },
  {
   "cell_type": "code",
   "execution_count": null,
   "id": "063ef288",
   "metadata": {},
   "outputs": [],
   "source": [
    "features"
   ]
  },
  {
   "cell_type": "code",
   "execution_count": 5,
   "id": "83e93b46",
   "metadata": {},
   "outputs": [
    {
     "name": "stdout",
     "output_type": "stream",
     "text": [
      "Train on 37440 samples, validate on 4160 samples\n",
      "Epoch 1/50\n",
      "37440/37440 [==============================] - 59s 2ms/sample - loss: 3.5376 - accuracy: 0.0959 - val_loss: 3.0540 - val_accuracy: 0.1827\n",
      "Epoch 2/50\n",
      "37440/37440 [==============================] - 1s 34us/sample - loss: 3.1887 - accuracy: 0.1486 - val_loss: 2.9297 - val_accuracy: 0.2048\n",
      "Epoch 3/50\n",
      "37440/37440 [==============================] - 1s 35us/sample - loss: 3.1136 - accuracy: 0.1661 - val_loss: 2.8987 - val_accuracy: 0.2132\n",
      "Epoch 4/50\n",
      "37440/37440 [==============================] - 1s 34us/sample - loss: 3.0772 - accuracy: 0.1754 - val_loss: 2.8629 - val_accuracy: 0.2139\n",
      "Epoch 5/50\n",
      "37440/37440 [==============================] - 2s 46us/sample - loss: 3.0477 - accuracy: 0.1822 - val_loss: 2.8537 - val_accuracy: 0.2154\n",
      "Epoch 6/50\n",
      "37440/37440 [==============================] - 1s 37us/sample - loss: 3.0324 - accuracy: 0.1838 - val_loss: 2.8416 - val_accuracy: 0.2180\n",
      "Epoch 7/50\n",
      "37440/37440 [==============================] - 1s 37us/sample - loss: 3.0272 - accuracy: 0.1849 - val_loss: 2.8399 - val_accuracy: 0.2209\n",
      "Epoch 8/50\n",
      "37440/37440 [==============================] - 2s 44us/sample - loss: 3.0152 - accuracy: 0.1878 - val_loss: 2.8273 - val_accuracy: 0.2192\n",
      "Epoch 9/50\n",
      "37440/37440 [==============================] - 1s 39us/sample - loss: 3.0035 - accuracy: 0.1921 - val_loss: 2.8136 - val_accuracy: 0.2286\n",
      "Epoch 10/50\n",
      "37440/37440 [==============================] - 1s 35us/sample - loss: 2.9917 - accuracy: 0.1912 - val_loss: 2.8038 - val_accuracy: 0.2272\n",
      "Epoch 11/50\n",
      "37440/37440 [==============================] - 1s 39us/sample - loss: 2.9921 - accuracy: 0.1938 - val_loss: 2.7975 - val_accuracy: 0.2300\n",
      "Epoch 12/50\n",
      "37440/37440 [==============================] - 1s 39us/sample - loss: 2.9847 - accuracy: 0.1964 - val_loss: 2.8005 - val_accuracy: 0.2298\n",
      "Epoch 13/50\n",
      "37440/37440 [==============================] - 1s 39us/sample - loss: 2.9826 - accuracy: 0.1942 - val_loss: 2.7898 - val_accuracy: 0.2293\n",
      "Epoch 14/50\n",
      "37440/37440 [==============================] - 1s 40us/sample - loss: 2.9782 - accuracy: 0.1961 - val_loss: 2.7917 - val_accuracy: 0.2310\n",
      "Epoch 15/50\n",
      "37440/37440 [==============================] - 2s 46us/sample - loss: 2.9690 - accuracy: 0.1993 - val_loss: 2.7931 - val_accuracy: 0.2325\n",
      "Epoch 16/50\n",
      "37440/37440 [==============================] - 3s 69us/sample - loss: 2.9697 - accuracy: 0.1986 - val_loss: 2.7883 - val_accuracy: 0.2298\n",
      "Epoch 17/50\n",
      "37440/37440 [==============================] - 3s 90us/sample - loss: 2.9725 - accuracy: 0.1982 - val_loss: 2.7859 - val_accuracy: 0.2322\n",
      "Epoch 18/50\n",
      "37440/37440 [==============================] - 59s 2ms/sample - loss: 2.9658 - accuracy: 0.1987 - val_loss: 2.7826 - val_accuracy: 0.2329\n",
      "Epoch 19/50\n",
      "37440/37440 [==============================] - 6s 163us/sample - loss: 2.9702 - accuracy: 0.1968 - val_loss: 2.7818 - val_accuracy: 0.2317\n",
      "Epoch 20/50\n",
      "37440/37440 [==============================] - 7s 193us/sample - loss: 2.9642 - accuracy: 0.2027 - val_loss: 2.7800 - val_accuracy: 0.2409\n",
      "Epoch 21/50\n",
      "37440/37440 [==============================] - 7s 175us/sample - loss: 2.9642 - accuracy: 0.1995 - val_loss: 2.7771 - val_accuracy: 0.2353\n",
      "Epoch 22/50\n",
      "37440/37440 [==============================] - 2s 57us/sample - loss: 2.9646 - accuracy: 0.1972 - val_loss: 2.7829 - val_accuracy: 0.2317\n",
      "Epoch 23/50\n",
      "37440/37440 [==============================] - 2s 60us/sample - loss: 2.9607 - accuracy: 0.1991 - val_loss: 2.7799 - val_accuracy: 0.2361\n",
      "Epoch 24/50\n",
      "37440/37440 [==============================] - 4s 106us/sample - loss: 2.9612 - accuracy: 0.2001 - val_loss: 2.7714 - val_accuracy: 0.2351\n",
      "Epoch 25/50\n",
      "37440/37440 [==============================] - 2s 42us/sample - loss: 2.9546 - accuracy: 0.2032 - val_loss: 2.7795 - val_accuracy: 0.2281\n",
      "Epoch 26/50\n",
      "37440/37440 [==============================] - 1s 35us/sample - loss: 2.9593 - accuracy: 0.1996 - val_loss: 2.7769 - val_accuracy: 0.2320\n",
      "Epoch 27/50\n",
      "37440/37440 [==============================] - 1s 39us/sample - loss: 2.9538 - accuracy: 0.2025 - val_loss: 2.7749 - val_accuracy: 0.2358\n",
      "Epoch 28/50\n",
      "37440/37440 [==============================] - 1s 39us/sample - loss: 2.9610 - accuracy: 0.1981 - val_loss: 2.7715 - val_accuracy: 0.2315\n",
      "Epoch 29/50\n",
      "37440/37440 [==============================] - 1s 34us/sample - loss: 2.9527 - accuracy: 0.2005 - val_loss: 2.7688 - val_accuracy: 0.2368\n",
      "Epoch 30/50\n",
      "37440/37440 [==============================] - 1s 37us/sample - loss: 2.9537 - accuracy: 0.2023 - val_loss: 2.7711 - val_accuracy: 0.2346\n",
      "Epoch 31/50\n",
      "37440/37440 [==============================] - 1s 37us/sample - loss: 2.9574 - accuracy: 0.2026 - val_loss: 2.7761 - val_accuracy: 0.2291\n",
      "Epoch 32/50\n",
      "37440/37440 [==============================] - 1s 37us/sample - loss: 2.9564 - accuracy: 0.2041 - val_loss: 2.7679 - val_accuracy: 0.2322\n",
      "Epoch 33/50\n",
      "37440/37440 [==============================] - 1s 34us/sample - loss: 2.9522 - accuracy: 0.2041 - val_loss: 2.7641 - val_accuracy: 0.2310\n",
      "Epoch 34/50\n",
      "37440/37440 [==============================] - 1s 36us/sample - loss: 2.9551 - accuracy: 0.2014 - val_loss: 2.7723 - val_accuracy: 0.2315\n",
      "Epoch 35/50\n",
      "37440/37440 [==============================] - 1s 34us/sample - loss: 2.9482 - accuracy: 0.2033 - val_loss: 2.7727 - val_accuracy: 0.2305\n",
      "Epoch 36/50\n",
      "37440/37440 [==============================] - 1s 32us/sample - loss: 2.9536 - accuracy: 0.2014 - val_loss: 2.7765 - val_accuracy: 0.2269\n",
      "Epoch 37/50\n",
      "37440/37440 [==============================] - 1s 35us/sample - loss: 2.9486 - accuracy: 0.2045 - val_loss: 2.7673 - val_accuracy: 0.2325\n",
      "Epoch 38/50\n",
      "37440/37440 [==============================] - 1s 35us/sample - loss: 2.9511 - accuracy: 0.2036 - val_loss: 2.7635 - val_accuracy: 0.2361\n",
      "Epoch 39/50\n",
      "37440/37440 [==============================] - 1s 35us/sample - loss: 2.9443 - accuracy: 0.2012 - val_loss: 2.7650 - val_accuracy: 0.2361\n",
      "Epoch 40/50\n",
      "37440/37440 [==============================] - 1s 34us/sample - loss: 2.9478 - accuracy: 0.2052 - val_loss: 2.7765 - val_accuracy: 0.2334\n",
      "Epoch 41/50\n",
      "37440/37440 [==============================] - 1s 38us/sample - loss: 2.9455 - accuracy: 0.2021 - val_loss: 2.7574 - val_accuracy: 0.2380\n",
      "Epoch 42/50\n",
      "37440/37440 [==============================] - 1s 35us/sample - loss: 2.9476 - accuracy: 0.2053 - val_loss: 2.7611 - val_accuracy: 0.2380\n",
      "Epoch 43/50\n",
      "37440/37440 [==============================] - 1s 35us/sample - loss: 2.9515 - accuracy: 0.2051 - val_loss: 2.7667 - val_accuracy: 0.2365\n",
      "Epoch 44/50\n",
      "37440/37440 [==============================] - 1s 34us/sample - loss: 2.9473 - accuracy: 0.2038 - val_loss: 2.7637 - val_accuracy: 0.2385\n",
      "Epoch 45/50\n",
      "37440/37440 [==============================] - 1s 34us/sample - loss: 2.9469 - accuracy: 0.2033 - val_loss: 2.7613 - val_accuracy: 0.2368\n",
      "Epoch 46/50\n",
      "37440/37440 [==============================] - 1s 35us/sample - loss: 2.9414 - accuracy: 0.2042 - val_loss: 2.7637 - val_accuracy: 0.2387\n",
      "Epoch 47/50\n",
      "37440/37440 [==============================] - 1s 37us/sample - loss: 2.9506 - accuracy: 0.2011 - val_loss: 2.7681 - val_accuracy: 0.2351\n",
      "Epoch 48/50\n",
      "37440/37440 [==============================] - 1s 35us/sample - loss: 2.9453 - accuracy: 0.2043 - val_loss: 2.7595 - val_accuracy: 0.2351\n",
      "Epoch 49/50\n",
      "37440/37440 [==============================] - 1s 35us/sample - loss: 2.9426 - accuracy: 0.2073 - val_loss: 2.7630 - val_accuracy: 0.2315\n",
      "Epoch 50/50\n",
      "37440/37440 [==============================] - 1s 35us/sample - loss: 2.9443 - accuracy: 0.2049 - val_loss: 2.7612 - val_accuracy: 0.2368\n",
      "10400/10400 [==============================] - 0s 20us/sample - loss: 2.7556 - accuracy: 0.2378\n",
      "Test accuracy: 0.23778846859931946\n",
      "                precision    recall  f1-score   support\n",
      "\n",
      "      acoustic       0.15      0.18      0.17       205\n",
      "      afrobeat       0.20      0.06      0.09       197\n",
      "      alt-rock       0.25      0.01      0.02       194\n",
      "   alternative       0.00      0.00      0.00       210\n",
      "       ambient       0.32      0.68      0.44       190\n",
      "         anime       0.00      0.00      0.00       208\n",
      "   black-metal       0.52      0.44      0.47       217\n",
      "     bluegrass       0.26      0.38      0.31       207\n",
      "         blues       0.25      0.05      0.09       190\n",
      "        brazil       0.23      0.01      0.03       206\n",
      "     breakbeat       0.19      0.08      0.11       192\n",
      "       british       0.00      0.00      0.00       200\n",
      "      cantopop       0.16      0.50      0.24       199\n",
      " chicago-house       0.27      0.70      0.39       205\n",
      "      children       0.36      0.47      0.41       195\n",
      "         chill       0.22      0.32      0.26       211\n",
      "     classical       0.45      0.48      0.47       196\n",
      "          club       0.29      0.12      0.17       199\n",
      "        comedy       0.80      0.80      0.80       204\n",
      "       country       0.10      0.18      0.13       191\n",
      "         dance       0.10      0.14      0.12       208\n",
      "     dancehall       0.16      0.50      0.25       191\n",
      "   death-metal       0.25      0.34      0.29       206\n",
      "    deep-house       0.17      0.30      0.22       182\n",
      "detroit-techno       0.41      0.30      0.35       206\n",
      "         disco       0.14      0.31      0.19       188\n",
      "        disney       0.22      0.07      0.10       206\n",
      " drum-and-bass       0.34      0.47      0.40       175\n",
      "           dub       0.00      0.00      0.00       220\n",
      "       dubstep       0.25      0.28      0.26       203\n",
      "           edm       0.16      0.23      0.19       200\n",
      "       electro       0.00      0.00      0.00       236\n",
      "    electronic       0.11      0.00      0.01       218\n",
      "           emo       0.25      0.01      0.01       191\n",
      "          folk       0.15      0.04      0.06       196\n",
      "         forro       0.25      0.72      0.37       201\n",
      "        french       0.07      0.01      0.01       200\n",
      "          funk       0.37      0.09      0.15       203\n",
      "        garage       0.17      0.08      0.11       212\n",
      "        german       0.00      0.00      0.00       205\n",
      "        gospel       0.22      0.54      0.31       197\n",
      "          goth       0.00      0.00      0.00       189\n",
      "     grindcore       0.43      0.84      0.57       182\n",
      "        groove       0.00      0.00      0.00       197\n",
      "        grunge       0.11      0.25      0.16       184\n",
      "        guitar       0.29      0.33      0.31       173\n",
      "         happy       0.39      0.14      0.21       210\n",
      "     hard-rock       0.07      0.04      0.05       209\n",
      "      hardcore       0.24      0.06      0.09       203\n",
      "     hardstyle       0.18      0.46      0.26       185\n",
      "   heavy-metal       0.18      0.35      0.23       215\n",
      "       hip-hop       0.18      0.23      0.20       193\n",
      "\n",
      "      accuracy                           0.24     10400\n",
      "     macro avg       0.21      0.24      0.19     10400\n",
      "  weighted avg       0.21      0.24      0.19     10400\n",
      "\n"
     ]
    },
    {
     "name": "stderr",
     "output_type": "stream",
     "text": [
      "C:\\Users\\Mudassir\\anaconda3\\envs\\p37\\lib\\site-packages\\sklearn\\metrics\\_classification.py:1318: UndefinedMetricWarning: Precision and F-score are ill-defined and being set to 0.0 in labels with no predicted samples. Use `zero_division` parameter to control this behavior.\n",
      "  _warn_prf(average, modifier, msg_start, len(result))\n",
      "C:\\Users\\Mudassir\\anaconda3\\envs\\p37\\lib\\site-packages\\sklearn\\metrics\\_classification.py:1318: UndefinedMetricWarning: Precision and F-score are ill-defined and being set to 0.0 in labels with no predicted samples. Use `zero_division` parameter to control this behavior.\n",
      "  _warn_prf(average, modifier, msg_start, len(result))\n",
      "C:\\Users\\Mudassir\\anaconda3\\envs\\p37\\lib\\site-packages\\sklearn\\metrics\\_classification.py:1318: UndefinedMetricWarning: Precision and F-score are ill-defined and being set to 0.0 in labels with no predicted samples. Use `zero_division` parameter to control this behavior.\n",
      "  _warn_prf(average, modifier, msg_start, len(result))\n"
     ]
    }
   ],
   "source": [
    "import tensorflow as tf\n",
    "from sklearn.model_selection import train_test_split\n",
    "from sklearn.preprocessing import StandardScaler, OneHotEncoder\n",
    "from sklearn.compose import ColumnTransformer\n",
    "from sklearn.metrics import classification_report\n",
    "\n",
    "# Assuming 'df' is your DataFrame and it includes the song features and genre labels\n",
    "# features = df.iloc[:, :10]  # Selecting the first 10 columns as features\n",
    "# genres = df.iloc[:, 19]  # Assuming the 20th column (index 19) is the genre label\n",
    "\n",
    "# Preprocessing\n",
    "# Standardizing features\n",
    "scaler = StandardScaler()\n",
    "features_scaled = scaler.fit_transform(spotify_data[features])\n",
    "\n",
    "# Encoding genres\n",
    "encoder = OneHotEncoder(sparse=False)\n",
    "genres_encoded = encoder.fit_transform(spotify_data['track_genre'].values.reshape(-1, 1))\n",
    "\n",
    "# Splitting the dataset\n",
    "X_train, X_test, y_train, y_test = train_test_split(features_scaled, genres_encoded, test_size=0.2, random_state=42)\n",
    "\n",
    "# Neural network architecture\n",
    "model = tf.keras.models.Sequential([\n",
    "    tf.keras.layers.Dense(64, activation='relu', input_shape=(X_train.shape[1],)),\n",
    "    tf.keras.layers.Dropout(0.5),\n",
    "    tf.keras.layers.Dense(64, activation='relu'),\n",
    "    tf.keras.layers.Dropout(0.5),\n",
    "    tf.keras.layers.Dense(y_train.shape[1], activation='softmax')\n",
    "])\n",
    "\n",
    "# Compile the model\n",
    "model.compile(optimizer='adam',\n",
    "              loss='categorical_crossentropy',\n",
    "              metrics=['accuracy'])\n",
    "\n",
    "# Train the model\n",
    "history = model.fit(X_train, y_train, epochs=50, validation_split=0.1)\n",
    "\n",
    "# Evaluate the model\n",
    "loss, accuracy = model.evaluate(X_test, y_test)\n",
    "print(f'Test accuracy: {accuracy}')\n",
    "\n",
    "# Predict and report\n",
    "predictions = model.predict(X_test)\n",
    "predicted_genres = encoder.inverse_transform(predictions)\n",
    "true_genres = encoder.inverse_transform(y_test)\n",
    "print(classification_report(true_genres, predicted_genres, target_names=encoder.categories_[0]))\n"
   ]
  },
  {
   "cell_type": "code",
   "execution_count": null,
   "id": "e17e3476",
   "metadata": {},
   "outputs": [],
   "source": []
  },
  {
   "cell_type": "code",
   "execution_count": null,
   "id": "a6eb50c6",
   "metadata": {},
   "outputs": [],
   "source": []
  }
 ],
 "metadata": {
  "kernelspec": {
   "display_name": "Python 3 (ipykernel)",
   "language": "python",
   "name": "python3"
  },
  "language_info": {
   "codemirror_mode": {
    "name": "ipython",
    "version": 3
   },
   "file_extension": ".py",
   "mimetype": "text/x-python",
   "name": "python",
   "nbconvert_exporter": "python",
   "pygments_lexer": "ipython3",
   "version": "3.9.6"
  }
 },
 "nbformat": 4,
 "nbformat_minor": 5
}
